{
 "cells": [
  {
   "cell_type": "markdown",
   "id": "243c9df0",
   "metadata": {},
   "source": [
    "### Подключение к локальной демо базе данных с авиаперевозками PostgreSQL\n",
    "https://postgrespro.ru/education/demodb"
   ]
  },
  {
   "cell_type": "code",
   "execution_count": 112,
   "id": "74bffaa8",
   "metadata": {},
   "outputs": [],
   "source": [
    "import psycopg2\n",
    "import pandas as pd\n",
    "import numpy as np\n",
    "%matplotlib notebook\n",
    "%matplotlib inline\n",
    "import matplotlib.pyplot as plt\n",
    "import seaborn as sns"
   ]
  },
  {
   "cell_type": "code",
   "execution_count": 2,
   "id": "acfa28d4",
   "metadata": {},
   "outputs": [],
   "source": [
    "conn = psycopg2.connect(dbname = 'demo', user='postgres', \n",
    "                        password='1234', host='localhost')"
   ]
  },
  {
   "cell_type": "code",
   "execution_count": 3,
   "id": "3604fc80",
   "metadata": {},
   "outputs": [],
   "source": [
    "cursor = conn.cursor()"
   ]
  },
  {
   "cell_type": "markdown",
   "id": "92b5f7bf",
   "metadata": {},
   "source": [
    "### Загружаем в датафрейм данные о всех полетах, пассажирах и бронированиях"
   ]
  },
  {
   "cell_type": "code",
   "execution_count": 4,
   "id": "e49da800",
   "metadata": {},
   "outputs": [],
   "source": [
    "query = \"\"\" SELECT * FROM tickets\n",
    "                INNER JOIN ticket_flights USING(ticket_no) \n",
    "                INNER JOIN flights USING(flight_id) \"\"\""
   ]
  },
  {
   "cell_type": "code",
   "execution_count": 5,
   "id": "1e3c4833",
   "metadata": {},
   "outputs": [],
   "source": [
    "df = pd.read_sql_query(query, con = conn)"
   ]
  },
  {
   "cell_type": "code",
   "execution_count": 6,
   "id": "e272caea",
   "metadata": {
    "scrolled": true
   },
   "outputs": [
    {
     "data": {
      "text/html": [
       "<div>\n",
       "<style scoped>\n",
       "    .dataframe tbody tr th:only-of-type {\n",
       "        vertical-align: middle;\n",
       "    }\n",
       "\n",
       "    .dataframe tbody tr th {\n",
       "        vertical-align: top;\n",
       "    }\n",
       "\n",
       "    .dataframe thead th {\n",
       "        text-align: right;\n",
       "    }\n",
       "</style>\n",
       "<table border=\"1\" class=\"dataframe\">\n",
       "  <thead>\n",
       "    <tr style=\"text-align: right;\">\n",
       "      <th></th>\n",
       "      <th>flight_id</th>\n",
       "      <th>ticket_no</th>\n",
       "      <th>book_ref</th>\n",
       "      <th>passenger_id</th>\n",
       "      <th>passenger_name</th>\n",
       "      <th>contact_data</th>\n",
       "      <th>fare_conditions</th>\n",
       "      <th>amount</th>\n",
       "      <th>flight_no</th>\n",
       "      <th>scheduled_departure</th>\n",
       "      <th>scheduled_arrival</th>\n",
       "      <th>departure_airport</th>\n",
       "      <th>arrival_airport</th>\n",
       "      <th>status</th>\n",
       "      <th>aircraft_code</th>\n",
       "      <th>actual_departure</th>\n",
       "      <th>actual_arrival</th>\n",
       "    </tr>\n",
       "  </thead>\n",
       "  <tbody>\n",
       "    <tr>\n",
       "      <th>0</th>\n",
       "      <td>30625</td>\n",
       "      <td>0005435212374</td>\n",
       "      <td>B3E42B</td>\n",
       "      <td>7439 263605</td>\n",
       "      <td>VERONIKA TARASOVA</td>\n",
       "      <td>{'phone': '+70372550663'}</td>\n",
       "      <td>Comfort</td>\n",
       "      <td>23900.0</td>\n",
       "      <td>PG0013</td>\n",
       "      <td>2017-07-16 15:15:00+00:00</td>\n",
       "      <td>2017-07-16 17:00:00+00:00</td>\n",
       "      <td>AER</td>\n",
       "      <td>SVO</td>\n",
       "      <td>Arrived</td>\n",
       "      <td>773</td>\n",
       "      <td>2017-07-16 15:18:00+00:00</td>\n",
       "      <td>2017-07-16 17:04:00+00:00</td>\n",
       "    </tr>\n",
       "    <tr>\n",
       "      <th>1</th>\n",
       "      <td>30625</td>\n",
       "      <td>0005435212367</td>\n",
       "      <td>949E48</td>\n",
       "      <td>4819 398643</td>\n",
       "      <td>ELIZAVETA KOROLEVA</td>\n",
       "      <td>{'phone': '+70609911759'}</td>\n",
       "      <td>Economy</td>\n",
       "      <td>14000.0</td>\n",
       "      <td>PG0013</td>\n",
       "      <td>2017-07-16 15:15:00+00:00</td>\n",
       "      <td>2017-07-16 17:00:00+00:00</td>\n",
       "      <td>AER</td>\n",
       "      <td>SVO</td>\n",
       "      <td>Arrived</td>\n",
       "      <td>773</td>\n",
       "      <td>2017-07-16 15:18:00+00:00</td>\n",
       "      <td>2017-07-16 17:04:00+00:00</td>\n",
       "    </tr>\n",
       "    <tr>\n",
       "      <th>2</th>\n",
       "      <td>30625</td>\n",
       "      <td>0005435212340</td>\n",
       "      <td>DC74E3</td>\n",
       "      <td>4757 279063</td>\n",
       "      <td>LIDIYA ABRAMOVA</td>\n",
       "      <td>{'phone': '+70218535523'}</td>\n",
       "      <td>Economy</td>\n",
       "      <td>14000.0</td>\n",
       "      <td>PG0013</td>\n",
       "      <td>2017-07-16 15:15:00+00:00</td>\n",
       "      <td>2017-07-16 17:00:00+00:00</td>\n",
       "      <td>AER</td>\n",
       "      <td>SVO</td>\n",
       "      <td>Arrived</td>\n",
       "      <td>773</td>\n",
       "      <td>2017-07-16 15:18:00+00:00</td>\n",
       "      <td>2017-07-16 17:04:00+00:00</td>\n",
       "    </tr>\n",
       "    <tr>\n",
       "      <th>3</th>\n",
       "      <td>30625</td>\n",
       "      <td>0005435212379</td>\n",
       "      <td>8E9373</td>\n",
       "      <td>7200 541610</td>\n",
       "      <td>ALEKSANDR MAKSIMOV</td>\n",
       "      <td>{'phone': '+70122043275'}</td>\n",
       "      <td>Economy</td>\n",
       "      <td>14000.0</td>\n",
       "      <td>PG0013</td>\n",
       "      <td>2017-07-16 15:15:00+00:00</td>\n",
       "      <td>2017-07-16 17:00:00+00:00</td>\n",
       "      <td>AER</td>\n",
       "      <td>SVO</td>\n",
       "      <td>Arrived</td>\n",
       "      <td>773</td>\n",
       "      <td>2017-07-16 15:18:00+00:00</td>\n",
       "      <td>2017-07-16 17:04:00+00:00</td>\n",
       "    </tr>\n",
       "    <tr>\n",
       "      <th>4</th>\n",
       "      <td>30625</td>\n",
       "      <td>0005435212396</td>\n",
       "      <td>959F20</td>\n",
       "      <td>8679 727676</td>\n",
       "      <td>KRISTINA YAKOVLEVA</td>\n",
       "      <td>{'email': 'k.yakovleva-1973@postgrespro.ru', '...</td>\n",
       "      <td>Economy</td>\n",
       "      <td>14000.0</td>\n",
       "      <td>PG0013</td>\n",
       "      <td>2017-07-16 15:15:00+00:00</td>\n",
       "      <td>2017-07-16 17:00:00+00:00</td>\n",
       "      <td>AER</td>\n",
       "      <td>SVO</td>\n",
       "      <td>Arrived</td>\n",
       "      <td>773</td>\n",
       "      <td>2017-07-16 15:18:00+00:00</td>\n",
       "      <td>2017-07-16 17:04:00+00:00</td>\n",
       "    </tr>\n",
       "  </tbody>\n",
       "</table>\n",
       "</div>"
      ],
      "text/plain": [
       "   flight_id      ticket_no book_ref passenger_id      passenger_name  \\\n",
       "0      30625  0005435212374   B3E42B  7439 263605   VERONIKA TARASOVA   \n",
       "1      30625  0005435212367   949E48  4819 398643  ELIZAVETA KOROLEVA   \n",
       "2      30625  0005435212340   DC74E3  4757 279063     LIDIYA ABRAMOVA   \n",
       "3      30625  0005435212379   8E9373  7200 541610  ALEKSANDR MAKSIMOV   \n",
       "4      30625  0005435212396   959F20  8679 727676  KRISTINA YAKOVLEVA   \n",
       "\n",
       "                                        contact_data fare_conditions   amount  \\\n",
       "0                          {'phone': '+70372550663'}         Comfort  23900.0   \n",
       "1                          {'phone': '+70609911759'}         Economy  14000.0   \n",
       "2                          {'phone': '+70218535523'}         Economy  14000.0   \n",
       "3                          {'phone': '+70122043275'}         Economy  14000.0   \n",
       "4  {'email': 'k.yakovleva-1973@postgrespro.ru', '...         Economy  14000.0   \n",
       "\n",
       "  flight_no       scheduled_departure         scheduled_arrival  \\\n",
       "0    PG0013 2017-07-16 15:15:00+00:00 2017-07-16 17:00:00+00:00   \n",
       "1    PG0013 2017-07-16 15:15:00+00:00 2017-07-16 17:00:00+00:00   \n",
       "2    PG0013 2017-07-16 15:15:00+00:00 2017-07-16 17:00:00+00:00   \n",
       "3    PG0013 2017-07-16 15:15:00+00:00 2017-07-16 17:00:00+00:00   \n",
       "4    PG0013 2017-07-16 15:15:00+00:00 2017-07-16 17:00:00+00:00   \n",
       "\n",
       "  departure_airport arrival_airport   status aircraft_code  \\\n",
       "0               AER             SVO  Arrived           773   \n",
       "1               AER             SVO  Arrived           773   \n",
       "2               AER             SVO  Arrived           773   \n",
       "3               AER             SVO  Arrived           773   \n",
       "4               AER             SVO  Arrived           773   \n",
       "\n",
       "           actual_departure            actual_arrival  \n",
       "0 2017-07-16 15:18:00+00:00 2017-07-16 17:04:00+00:00  \n",
       "1 2017-07-16 15:18:00+00:00 2017-07-16 17:04:00+00:00  \n",
       "2 2017-07-16 15:18:00+00:00 2017-07-16 17:04:00+00:00  \n",
       "3 2017-07-16 15:18:00+00:00 2017-07-16 17:04:00+00:00  \n",
       "4 2017-07-16 15:18:00+00:00 2017-07-16 17:04:00+00:00  "
      ]
     },
     "execution_count": 6,
     "metadata": {},
     "output_type": "execute_result"
    }
   ],
   "source": [
    "df.head()"
   ]
  },
  {
   "cell_type": "code",
   "execution_count": 7,
   "id": "5719ff31",
   "metadata": {},
   "outputs": [
    {
     "data": {
      "text/plain": [
       "(1045726, 17)"
      ]
     },
     "execution_count": 7,
     "metadata": {},
     "output_type": "execute_result"
    }
   ],
   "source": [
    "df.shape"
   ]
  },
  {
   "cell_type": "code",
   "execution_count": 8,
   "id": "7b2c53b9",
   "metadata": {},
   "outputs": [
    {
     "name": "stdout",
     "output_type": "stream",
     "text": [
      "2017-07-15\n",
      "2017-09-14\n"
     ]
    }
   ],
   "source": [
    "# за какой период информация в базе данных \n",
    "print(df['scheduled_departure'].dt.date.min())\n",
    "print(df['scheduled_departure'].dt.date.max())"
   ]
  },
  {
   "cell_type": "code",
   "execution_count": 9,
   "id": "172c13ac",
   "metadata": {},
   "outputs": [
    {
     "data": {
      "text/plain": [
       "flight_id                   0\n",
       "ticket_no                   0\n",
       "book_ref                    0\n",
       "passenger_id                0\n",
       "passenger_name              0\n",
       "contact_data                0\n",
       "fare_conditions             0\n",
       "amount                      0\n",
       "flight_no                   0\n",
       "scheduled_departure         0\n",
       "scheduled_arrival           0\n",
       "departure_airport           0\n",
       "arrival_airport             0\n",
       "status                      0\n",
       "aircraft_code               0\n",
       "actual_departure       468621\n",
       "actual_arrival         470896\n",
       "dtype: int64"
      ]
     },
     "execution_count": 9,
     "metadata": {},
     "output_type": "execute_result"
    }
   ],
   "source": [
    "# проверяем нулевые значения\n",
    "df.isnull().sum()"
   ]
  },
  {
   "cell_type": "code",
   "execution_count": 12,
   "id": "b528d64b",
   "metadata": {},
   "outputs": [
    {
     "data": {
      "text/plain": [
       "status\n",
       "Delayed        1428\n",
       "Departed       2275\n",
       "On Time       20828\n",
       "Scheduled    446365\n",
       "Name: flight_id, dtype: int64"
      ]
     },
     "execution_count": 12,
     "metadata": {},
     "output_type": "execute_result"
    }
   ],
   "source": [
    "# нулевые значения встречаются по полетам, которые еще не завершились, задержаны или только запланированы\n",
    "df[df.actual_arrival.isnull()].groupby('status')['flight_id'].count()"
   ]
  },
  {
   "cell_type": "code",
   "execution_count": 13,
   "id": "6d71b3fc",
   "metadata": {},
   "outputs": [
    {
     "data": {
      "text/plain": [
       "array([datetime.date(2017, 8, 15), datetime.date(2017, 8, 16)],\n",
       "      dtype=object)"
      ]
     },
     "execution_count": 13,
     "metadata": {},
     "output_type": "execute_result"
    }
   ],
   "source": [
    "# по нескольким полетам в августе фактическое время вылета и прибытия не было заполнено, хотя статус полета был \"on time\" \n",
    "df[(df.actual_arrival.isnull()) & (df.status=='On Time')]['scheduled_departure'].dt.date.unique()"
   ]
  },
  {
   "cell_type": "code",
   "execution_count": 18,
   "id": "40f14dde",
   "metadata": {},
   "outputs": [],
   "source": [
    "# для этих полетов заполним фактическое время значением из столбцов с запланированным временем\n",
    "df.actual_departure = np.where((df.actual_departure.isnull()) & (df.status=='On Time'), df.scheduled_departure,  \n",
    "                               df.actual_departure)\n",
    "\n",
    "df.actual_arrival = np.where((df.actual_arrival.isnull()) & (df.status=='On Time'), df.scheduled_arrival, \n",
    "                             df.actual_arrival)"
   ]
  },
  {
   "cell_type": "code",
   "execution_count": 20,
   "id": "1ec6acc8",
   "metadata": {},
   "outputs": [
    {
     "data": {
      "text/plain": [
       "status\n",
       "Delayed        1428\n",
       "Departed       2275\n",
       "Scheduled    446365\n",
       "Name: flight_id, dtype: int64"
      ]
     },
     "execution_count": 20,
     "metadata": {},
     "output_type": "execute_result"
    }
   ],
   "source": [
    "# повторная проверка\n",
    "df[df.actual_arrival.isnull()].groupby('status')['flight_id'].count()"
   ]
  },
  {
   "cell_type": "markdown",
   "id": "3b40ccf7",
   "metadata": {},
   "source": [
    "### Анализ пассижиров и билетов по классам комфорта"
   ]
  },
  {
   "cell_type": "code",
   "execution_count": 24,
   "id": "d1ff80f3",
   "metadata": {
    "scrolled": true
   },
   "outputs": [
    {
     "data": {
      "text/html": [
       "<div>\n",
       "<style scoped>\n",
       "    .dataframe tbody tr th:only-of-type {\n",
       "        vertical-align: middle;\n",
       "    }\n",
       "\n",
       "    .dataframe tbody tr th {\n",
       "        vertical-align: top;\n",
       "    }\n",
       "\n",
       "    .dataframe thead th {\n",
       "        text-align: right;\n",
       "    }\n",
       "</style>\n",
       "<table border=\"1\" class=\"dataframe\">\n",
       "  <thead>\n",
       "    <tr style=\"text-align: right;\">\n",
       "      <th></th>\n",
       "      <th>fare_conditions</th>\n",
       "      <th>ticket_no</th>\n",
       "      <th>passenger_id</th>\n",
       "    </tr>\n",
       "  </thead>\n",
       "  <tbody>\n",
       "    <tr>\n",
       "      <th>2</th>\n",
       "      <td>Economy</td>\n",
       "      <td>920793</td>\n",
       "      <td>359720</td>\n",
       "    </tr>\n",
       "    <tr>\n",
       "      <th>0</th>\n",
       "      <td>Business</td>\n",
       "      <td>107642</td>\n",
       "      <td>93386</td>\n",
       "    </tr>\n",
       "    <tr>\n",
       "      <th>1</th>\n",
       "      <td>Comfort</td>\n",
       "      <td>17291</td>\n",
       "      <td>16308</td>\n",
       "    </tr>\n",
       "  </tbody>\n",
       "</table>\n",
       "</div>"
      ],
      "text/plain": [
       "  fare_conditions  ticket_no  passenger_id\n",
       "2         Economy     920793        359720\n",
       "0        Business     107642         93386\n",
       "1         Comfort      17291         16308"
      ]
     },
     "execution_count": 24,
     "metadata": {},
     "output_type": "execute_result"
    }
   ],
   "source": [
    "# количество купленных билетов и кол-во уникальных пассажиров по классам\n",
    "df.groupby(by ='fare_conditions', as_index=False) \\\n",
    "        .agg({'ticket_no': 'count', 'passenger_id': 'nunique'}) \\\n",
    "        .sort_values('ticket_no', ascending=False)"
   ]
  },
  {
   "cell_type": "code",
   "execution_count": 25,
   "id": "d296bf1b",
   "metadata": {},
   "outputs": [
    {
     "data": {
      "text/html": [
       "<div>\n",
       "<style scoped>\n",
       "    .dataframe tbody tr th:only-of-type {\n",
       "        vertical-align: middle;\n",
       "    }\n",
       "\n",
       "    .dataframe tbody tr th {\n",
       "        vertical-align: top;\n",
       "    }\n",
       "\n",
       "    .dataframe thead th {\n",
       "        text-align: right;\n",
       "    }\n",
       "</style>\n",
       "<table border=\"1\" class=\"dataframe\">\n",
       "  <thead>\n",
       "    <tr style=\"text-align: right;\">\n",
       "      <th></th>\n",
       "      <th>fare_conditions</th>\n",
       "      <th>ticket_no</th>\n",
       "      <th>passenger_id</th>\n",
       "    </tr>\n",
       "  </thead>\n",
       "  <tbody>\n",
       "    <tr>\n",
       "      <th>2</th>\n",
       "      <td>Economy</td>\n",
       "      <td>196925</td>\n",
       "      <td>87406</td>\n",
       "    </tr>\n",
       "    <tr>\n",
       "      <th>0</th>\n",
       "      <td>Business</td>\n",
       "      <td>107642</td>\n",
       "      <td>93386</td>\n",
       "    </tr>\n",
       "    <tr>\n",
       "      <th>1</th>\n",
       "      <td>Comfort</td>\n",
       "      <td>2708</td>\n",
       "      <td>2608</td>\n",
       "    </tr>\n",
       "  </tbody>\n",
       "</table>\n",
       "</div>"
      ],
      "text/plain": [
       "  fare_conditions  ticket_no  passenger_id\n",
       "2         Economy     196925         87406\n",
       "0        Business     107642         93386\n",
       "1         Comfort       2708          2608"
      ]
     },
     "execution_count": 25,
     "metadata": {},
     "output_type": "execute_result"
    }
   ],
   "source": [
    "# как часто пассижиры, которые используют бизнес-класс, используют другие тарифы\n",
    "businessPassengersID = set(df.passenger_id[df.fare_conditions=='Business'])\n",
    "passBusiness = df[df.passenger_id.isin(businessPassengersID)] \\\n",
    "    .groupby(by ='fare_conditions', as_index=False) \\\n",
    "    .agg({'ticket_no': 'count', 'passenger_id': 'nunique'}) \\\n",
    "    .sort_values('ticket_no', ascending=False)\n",
    "passBusiness"
   ]
  },
  {
   "cell_type": "code",
   "execution_count": 27,
   "id": "a9d4487d",
   "metadata": {},
   "outputs": [
    {
     "data": {
      "text/html": [
       "<div>\n",
       "<style scoped>\n",
       "    .dataframe tbody tr th:only-of-type {\n",
       "        vertical-align: middle;\n",
       "    }\n",
       "\n",
       "    .dataframe tbody tr th {\n",
       "        vertical-align: top;\n",
       "    }\n",
       "\n",
       "    .dataframe thead th {\n",
       "        text-align: right;\n",
       "    }\n",
       "</style>\n",
       "<table border=\"1\" class=\"dataframe\">\n",
       "  <thead>\n",
       "    <tr style=\"text-align: right;\">\n",
       "      <th></th>\n",
       "      <th>fare_conditions</th>\n",
       "      <th>ticket_no</th>\n",
       "      <th>passenger_id</th>\n",
       "    </tr>\n",
       "  </thead>\n",
       "  <tbody>\n",
       "    <tr>\n",
       "      <th>2</th>\n",
       "      <td>Economy</td>\n",
       "      <td>27441</td>\n",
       "      <td>14532</td>\n",
       "    </tr>\n",
       "    <tr>\n",
       "      <th>1</th>\n",
       "      <td>Comfort</td>\n",
       "      <td>17291</td>\n",
       "      <td>16308</td>\n",
       "    </tr>\n",
       "    <tr>\n",
       "      <th>0</th>\n",
       "      <td>Business</td>\n",
       "      <td>2832</td>\n",
       "      <td>2608</td>\n",
       "    </tr>\n",
       "  </tbody>\n",
       "</table>\n",
       "</div>"
      ],
      "text/plain": [
       "  fare_conditions  ticket_no  passenger_id\n",
       "2         Economy      27441         14532\n",
       "1         Comfort      17291         16308\n",
       "0        Business       2832          2608"
      ]
     },
     "execution_count": 27,
     "metadata": {},
     "output_type": "execute_result"
    }
   ],
   "source": [
    "# как часто пассижиры, которые используют комфорт, используют другие тарифы\n",
    "comfortPassengersID = set(df.passenger_id[df.fare_conditions=='Comfort'])\n",
    "passComfort = df[df.passenger_id.isin(comfortPassengersID)] \\\n",
    "    .groupby(by ='fare_conditions', as_index=False) \\\n",
    "    .agg({'ticket_no': 'count', 'passenger_id': 'nunique'}) \\\n",
    "    .sort_values('ticket_no', ascending=False)\n",
    "passComfort"
   ]
  },
  {
   "cell_type": "code",
   "execution_count": 28,
   "id": "04fcfd1d",
   "metadata": {},
   "outputs": [],
   "source": [
    "economyPassengersID = set(df.passenger_id[df.fare_conditions=='Economy'])"
   ]
  },
  {
   "cell_type": "code",
   "execution_count": 76,
   "id": "c2dea89e",
   "metadata": {},
   "outputs": [],
   "source": [
    "all_types = economyPassengersID.intersection(comfortPassengersID, businessPassengersID)\n",
    "dict = {k: 'all_types' for k in all_types}"
   ]
  },
  {
   "cell_type": "code",
   "execution_count": 77,
   "id": "019998a4",
   "metadata": {},
   "outputs": [],
   "source": [
    "economyAndComfort = economyPassengersID.intersection(comfortPassengersID) - all_types\n",
    "dict2 = {k: 'economyAndComfort' for k in economyAndComfort}"
   ]
  },
  {
   "cell_type": "code",
   "execution_count": 80,
   "id": "88bf06c9",
   "metadata": {},
   "outputs": [],
   "source": [
    "economyAndBusiness = economyPassengersID.intersection(businessPassengersID) - all_types\n",
    "dict3 = {k: 'economyAndBusiness' for k in economyAndBusiness}"
   ]
  },
  {
   "cell_type": "code",
   "execution_count": 81,
   "id": "76d20eab",
   "metadata": {
    "scrolled": true
   },
   "outputs": [],
   "source": [
    "businessAndComfort = comfortPassengersID.intersection(businessPassengersID) - all_types\n",
    "dict4 = {k: 'businessAndComfort' for k in businessAndComfort}"
   ]
  },
  {
   "cell_type": "code",
   "execution_count": 82,
   "id": "0d8029c3",
   "metadata": {},
   "outputs": [],
   "source": [
    "onlyComfort = comfortPassengersID - all_types - economyAndComfort - businessAndComfort\n",
    "dict5 = {k: 'onlyComfort' for k in onlyComfort}"
   ]
  },
  {
   "cell_type": "code",
   "execution_count": 83,
   "id": "7008cd9f",
   "metadata": {},
   "outputs": [],
   "source": [
    "onlyBusiness = businessPassengersID - all_types - businessAndComfort - economyAndBusiness\n",
    "dict6 = {k: 'onlyBusiness' for k in onlyBusiness}"
   ]
  },
  {
   "cell_type": "code",
   "execution_count": 84,
   "id": "45c1b79c",
   "metadata": {},
   "outputs": [],
   "source": [
    "onlyEconomy = economyPassengersID - all_types - economyAndBusiness - economyAndComfort\n",
    "dict7 = {k: 'onlyEconomy' for k in onlyEconomy}"
   ]
  },
  {
   "cell_type": "code",
   "execution_count": 87,
   "id": "52c28bfc",
   "metadata": {},
   "outputs": [],
   "source": [
    "# создаем общий словарь с категорией пассижира и его ID\n",
    "dictType = {**dict, **dict2, **dict3, **dict4, **dict5, **dict6, **dict7}"
   ]
  },
  {
   "cell_type": "code",
   "execution_count": 88,
   "id": "b7c727c9",
   "metadata": {},
   "outputs": [
    {
     "data": {
      "text/plain": [
       "True"
      ]
     },
     "execution_count": 88,
     "metadata": {},
     "output_type": "execute_result"
    }
   ],
   "source": [
    "# проверяем, что все ID пассажиров, распределились по категориям\n",
    "len(all_types.union(economyAndComfort, economyAndBusiness, businessAndComfort, onlyComfort, onlyBusiness, onlyEconomy)) == \\\n",
    "df.passenger_id.nunique()"
   ]
  },
  {
   "cell_type": "code",
   "execution_count": 92,
   "id": "ab35c4df",
   "metadata": {},
   "outputs": [
    {
     "data": {
      "text/html": [
       "<div>\n",
       "<style scoped>\n",
       "    .dataframe tbody tr th:only-of-type {\n",
       "        vertical-align: middle;\n",
       "    }\n",
       "\n",
       "    .dataframe tbody tr th {\n",
       "        vertical-align: top;\n",
       "    }\n",
       "\n",
       "    .dataframe thead th {\n",
       "        text-align: right;\n",
       "    }\n",
       "</style>\n",
       "<table border=\"1\" class=\"dataframe\">\n",
       "  <thead>\n",
       "    <tr style=\"text-align: right;\">\n",
       "      <th></th>\n",
       "      <th>flight_id</th>\n",
       "      <th>ticket_no</th>\n",
       "      <th>book_ref</th>\n",
       "      <th>passenger_id</th>\n",
       "      <th>passenger_name</th>\n",
       "      <th>contact_data</th>\n",
       "      <th>fare_conditions</th>\n",
       "      <th>amount</th>\n",
       "      <th>flight_no</th>\n",
       "      <th>scheduled_departure</th>\n",
       "      <th>scheduled_arrival</th>\n",
       "      <th>departure_airport</th>\n",
       "      <th>arrival_airport</th>\n",
       "      <th>status</th>\n",
       "      <th>aircraft_code</th>\n",
       "      <th>actual_departure</th>\n",
       "      <th>actual_arrival</th>\n",
       "      <th>passenger_type</th>\n",
       "    </tr>\n",
       "  </thead>\n",
       "  <tbody>\n",
       "    <tr>\n",
       "      <th>0</th>\n",
       "      <td>30625</td>\n",
       "      <td>0005435212374</td>\n",
       "      <td>B3E42B</td>\n",
       "      <td>7439 263605</td>\n",
       "      <td>VERONIKA TARASOVA</td>\n",
       "      <td>{'phone': '+70372550663'}</td>\n",
       "      <td>Comfort</td>\n",
       "      <td>23900.0</td>\n",
       "      <td>PG0013</td>\n",
       "      <td>2017-07-16 15:15:00+00:00</td>\n",
       "      <td>2017-07-16 17:00:00+00:00</td>\n",
       "      <td>AER</td>\n",
       "      <td>SVO</td>\n",
       "      <td>Arrived</td>\n",
       "      <td>773</td>\n",
       "      <td>2017-07-16 15:18:00+00:00</td>\n",
       "      <td>2017-07-16 17:04:00+00:00</td>\n",
       "      <td>economyAndComfort</td>\n",
       "    </tr>\n",
       "    <tr>\n",
       "      <th>1</th>\n",
       "      <td>30625</td>\n",
       "      <td>0005435212367</td>\n",
       "      <td>949E48</td>\n",
       "      <td>4819 398643</td>\n",
       "      <td>ELIZAVETA KOROLEVA</td>\n",
       "      <td>{'phone': '+70609911759'}</td>\n",
       "      <td>Economy</td>\n",
       "      <td>14000.0</td>\n",
       "      <td>PG0013</td>\n",
       "      <td>2017-07-16 15:15:00+00:00</td>\n",
       "      <td>2017-07-16 17:00:00+00:00</td>\n",
       "      <td>AER</td>\n",
       "      <td>SVO</td>\n",
       "      <td>Arrived</td>\n",
       "      <td>773</td>\n",
       "      <td>2017-07-16 15:18:00+00:00</td>\n",
       "      <td>2017-07-16 17:04:00+00:00</td>\n",
       "      <td>onlyEconomy</td>\n",
       "    </tr>\n",
       "    <tr>\n",
       "      <th>2</th>\n",
       "      <td>30625</td>\n",
       "      <td>0005435212340</td>\n",
       "      <td>DC74E3</td>\n",
       "      <td>4757 279063</td>\n",
       "      <td>LIDIYA ABRAMOVA</td>\n",
       "      <td>{'phone': '+70218535523'}</td>\n",
       "      <td>Economy</td>\n",
       "      <td>14000.0</td>\n",
       "      <td>PG0013</td>\n",
       "      <td>2017-07-16 15:15:00+00:00</td>\n",
       "      <td>2017-07-16 17:00:00+00:00</td>\n",
       "      <td>AER</td>\n",
       "      <td>SVO</td>\n",
       "      <td>Arrived</td>\n",
       "      <td>773</td>\n",
       "      <td>2017-07-16 15:18:00+00:00</td>\n",
       "      <td>2017-07-16 17:04:00+00:00</td>\n",
       "      <td>onlyEconomy</td>\n",
       "    </tr>\n",
       "    <tr>\n",
       "      <th>3</th>\n",
       "      <td>30625</td>\n",
       "      <td>0005435212379</td>\n",
       "      <td>8E9373</td>\n",
       "      <td>7200 541610</td>\n",
       "      <td>ALEKSANDR MAKSIMOV</td>\n",
       "      <td>{'phone': '+70122043275'}</td>\n",
       "      <td>Economy</td>\n",
       "      <td>14000.0</td>\n",
       "      <td>PG0013</td>\n",
       "      <td>2017-07-16 15:15:00+00:00</td>\n",
       "      <td>2017-07-16 17:00:00+00:00</td>\n",
       "      <td>AER</td>\n",
       "      <td>SVO</td>\n",
       "      <td>Arrived</td>\n",
       "      <td>773</td>\n",
       "      <td>2017-07-16 15:18:00+00:00</td>\n",
       "      <td>2017-07-16 17:04:00+00:00</td>\n",
       "      <td>onlyEconomy</td>\n",
       "    </tr>\n",
       "    <tr>\n",
       "      <th>4</th>\n",
       "      <td>30625</td>\n",
       "      <td>0005435212396</td>\n",
       "      <td>959F20</td>\n",
       "      <td>8679 727676</td>\n",
       "      <td>KRISTINA YAKOVLEVA</td>\n",
       "      <td>{'email': 'k.yakovleva-1973@postgrespro.ru', '...</td>\n",
       "      <td>Economy</td>\n",
       "      <td>14000.0</td>\n",
       "      <td>PG0013</td>\n",
       "      <td>2017-07-16 15:15:00+00:00</td>\n",
       "      <td>2017-07-16 17:00:00+00:00</td>\n",
       "      <td>AER</td>\n",
       "      <td>SVO</td>\n",
       "      <td>Arrived</td>\n",
       "      <td>773</td>\n",
       "      <td>2017-07-16 15:18:00+00:00</td>\n",
       "      <td>2017-07-16 17:04:00+00:00</td>\n",
       "      <td>onlyEconomy</td>\n",
       "    </tr>\n",
       "  </tbody>\n",
       "</table>\n",
       "</div>"
      ],
      "text/plain": [
       "   flight_id      ticket_no book_ref passenger_id      passenger_name  \\\n",
       "0      30625  0005435212374   B3E42B  7439 263605   VERONIKA TARASOVA   \n",
       "1      30625  0005435212367   949E48  4819 398643  ELIZAVETA KOROLEVA   \n",
       "2      30625  0005435212340   DC74E3  4757 279063     LIDIYA ABRAMOVA   \n",
       "3      30625  0005435212379   8E9373  7200 541610  ALEKSANDR MAKSIMOV   \n",
       "4      30625  0005435212396   959F20  8679 727676  KRISTINA YAKOVLEVA   \n",
       "\n",
       "                                        contact_data fare_conditions   amount  \\\n",
       "0                          {'phone': '+70372550663'}         Comfort  23900.0   \n",
       "1                          {'phone': '+70609911759'}         Economy  14000.0   \n",
       "2                          {'phone': '+70218535523'}         Economy  14000.0   \n",
       "3                          {'phone': '+70122043275'}         Economy  14000.0   \n",
       "4  {'email': 'k.yakovleva-1973@postgrespro.ru', '...         Economy  14000.0   \n",
       "\n",
       "  flight_no       scheduled_departure         scheduled_arrival  \\\n",
       "0    PG0013 2017-07-16 15:15:00+00:00 2017-07-16 17:00:00+00:00   \n",
       "1    PG0013 2017-07-16 15:15:00+00:00 2017-07-16 17:00:00+00:00   \n",
       "2    PG0013 2017-07-16 15:15:00+00:00 2017-07-16 17:00:00+00:00   \n",
       "3    PG0013 2017-07-16 15:15:00+00:00 2017-07-16 17:00:00+00:00   \n",
       "4    PG0013 2017-07-16 15:15:00+00:00 2017-07-16 17:00:00+00:00   \n",
       "\n",
       "  departure_airport arrival_airport   status aircraft_code  \\\n",
       "0               AER             SVO  Arrived           773   \n",
       "1               AER             SVO  Arrived           773   \n",
       "2               AER             SVO  Arrived           773   \n",
       "3               AER             SVO  Arrived           773   \n",
       "4               AER             SVO  Arrived           773   \n",
       "\n",
       "           actual_departure            actual_arrival     passenger_type  \n",
       "0 2017-07-16 15:18:00+00:00 2017-07-16 17:04:00+00:00  economyAndComfort  \n",
       "1 2017-07-16 15:18:00+00:00 2017-07-16 17:04:00+00:00        onlyEconomy  \n",
       "2 2017-07-16 15:18:00+00:00 2017-07-16 17:04:00+00:00        onlyEconomy  \n",
       "3 2017-07-16 15:18:00+00:00 2017-07-16 17:04:00+00:00        onlyEconomy  \n",
       "4 2017-07-16 15:18:00+00:00 2017-07-16 17:04:00+00:00        onlyEconomy  "
      ]
     },
     "execution_count": 92,
     "metadata": {},
     "output_type": "execute_result"
    }
   ],
   "source": [
    "# определяем категорию пассажира в зависимости от того какими тарифами он пользовался\n",
    "df['passenger_type'] = df.passenger_id.map(dictType)\n",
    "df.head()"
   ]
  },
  {
   "cell_type": "code",
   "execution_count": 159,
   "id": "e2aa1878",
   "metadata": {},
   "outputs": [],
   "source": [
    "flights_by_pass = df.groupby(by=['passenger_type', 'passenger_id'], as_index=False)['ticket_no'].count() \\\n",
    "                    .sort_values('ticket_no')"
   ]
  },
  {
   "cell_type": "code",
   "execution_count": 153,
   "id": "f280f743",
   "metadata": {},
   "outputs": [
    {
     "data": {
      "text/html": [
       "<div>\n",
       "<style scoped>\n",
       "    .dataframe tbody tr th:only-of-type {\n",
       "        vertical-align: middle;\n",
       "    }\n",
       "\n",
       "    .dataframe tbody tr th {\n",
       "        vertical-align: top;\n",
       "    }\n",
       "\n",
       "    .dataframe thead th {\n",
       "        text-align: right;\n",
       "    }\n",
       "</style>\n",
       "<table border=\"1\" class=\"dataframe\">\n",
       "  <thead>\n",
       "    <tr style=\"text-align: right;\">\n",
       "      <th></th>\n",
       "      <th>passenger_type</th>\n",
       "      <th>ticket_no</th>\n",
       "      <th>passenger_id</th>\n",
       "    </tr>\n",
       "  </thead>\n",
       "  <tbody>\n",
       "    <tr>\n",
       "      <th>0</th>\n",
       "      <td>all_types</td>\n",
       "      <td>4</td>\n",
       "      <td>1677</td>\n",
       "    </tr>\n",
       "    <tr>\n",
       "      <th>1</th>\n",
       "      <td>all_types</td>\n",
       "      <td>6</td>\n",
       "      <td>188</td>\n",
       "    </tr>\n",
       "    <tr>\n",
       "      <th>2</th>\n",
       "      <td>businessAndComfort</td>\n",
       "      <td>2</td>\n",
       "      <td>730</td>\n",
       "    </tr>\n",
       "    <tr>\n",
       "      <th>3</th>\n",
       "      <td>businessAndComfort</td>\n",
       "      <td>4</td>\n",
       "      <td>13</td>\n",
       "    </tr>\n",
       "    <tr>\n",
       "      <th>4</th>\n",
       "      <td>economyAndBusiness</td>\n",
       "      <td>2</td>\n",
       "      <td>29827</td>\n",
       "    </tr>\n",
       "  </tbody>\n",
       "</table>\n",
       "</div>"
      ],
      "text/plain": [
       "       passenger_type  ticket_no  passenger_id\n",
       "0           all_types          4          1677\n",
       "1           all_types          6           188\n",
       "2  businessAndComfort          2           730\n",
       "3  businessAndComfort          4            13\n",
       "4  economyAndBusiness          2         29827"
      ]
     },
     "execution_count": 153,
     "metadata": {},
     "output_type": "execute_result"
    }
   ],
   "source": [
    "# количество пассажиров, сгруппированных по кол-ву совершенных полетов и категории\n",
    "flights_by_types = flights_by_pass.groupby(by=['passenger_type', 'ticket_no'], as_index=False)['passenger_id'].count()\n",
    "flights_by_types.head()"
   ]
  },
  {
   "cell_type": "code",
   "execution_count": 160,
   "id": "bd45c8d1",
   "metadata": {},
   "outputs": [
    {
     "data": {
      "text/plain": [
       "Text(0.5, 1.0, 'Количество пассажиров по кол-ву совершенных полетов и категории')"
      ]
     },
     "execution_count": 160,
     "metadata": {},
     "output_type": "execute_result"
    },
    {
     "data": {
      "image/png": "[encoded data removed]",
      "text/plain": [
       "<Figure size 432x288 with 1 Axes>"
      ]
     },
     "metadata": {},
     "output_type": "display_data"
    }
   ],
   "source": [
    "sns.set(style=\"darkgrid\")\n",
    "ax = sns.barplot(x='ticket_no', y='passenger_id', hue='passenger_type', data=flights_by_types)\n",
    "ax.set(xlabel='Количество полетов', ylabel='Количество пассажирова')\n",
    "plt.legend(bbox_to_anchor=(1.05, 1), loc=2, borderaxespad=0.)\n",
    "plt.title('Количество пассажиров по кол-ву совершенных полетов и категории', fontsize = 16)"
   ]
  },
  {
   "cell_type": "markdown",
   "id": "3544cf1f",
   "metadata": {},
   "source": [
    "### Зависимость стоимости билетов и длительности полета"
   ]
  },
  {
   "cell_type": "code",
   "execution_count": 176,
   "id": "d1a1d9cc",
   "metadata": {},
   "outputs": [
    {
     "data": {
      "text/html": [
       "<div>\n",
       "<style scoped>\n",
       "    .dataframe tbody tr th:only-of-type {\n",
       "        vertical-align: middle;\n",
       "    }\n",
       "\n",
       "    .dataframe tbody tr th {\n",
       "        vertical-align: top;\n",
       "    }\n",
       "\n",
       "    .dataframe thead th {\n",
       "        text-align: right;\n",
       "    }\n",
       "</style>\n",
       "<table border=\"1\" class=\"dataframe\">\n",
       "  <thead>\n",
       "    <tr style=\"text-align: right;\">\n",
       "      <th></th>\n",
       "      <th>flight_id</th>\n",
       "      <th>ticket_no</th>\n",
       "      <th>book_ref</th>\n",
       "      <th>passenger_id</th>\n",
       "      <th>passenger_name</th>\n",
       "      <th>contact_data</th>\n",
       "      <th>fare_conditions</th>\n",
       "      <th>amount</th>\n",
       "      <th>flight_no</th>\n",
       "      <th>scheduled_departure</th>\n",
       "      <th>scheduled_arrival</th>\n",
       "      <th>departure_airport</th>\n",
       "      <th>arrival_airport</th>\n",
       "      <th>status</th>\n",
       "      <th>aircraft_code</th>\n",
       "      <th>actual_departure</th>\n",
       "      <th>actual_arrival</th>\n",
       "      <th>passenger_type</th>\n",
       "      <th>flight_time</th>\n",
       "    </tr>\n",
       "  </thead>\n",
       "  <tbody>\n",
       "    <tr>\n",
       "      <th>0</th>\n",
       "      <td>30625</td>\n",
       "      <td>0005435212374</td>\n",
       "      <td>B3E42B</td>\n",
       "      <td>7439 263605</td>\n",
       "      <td>VERONIKA TARASOVA</td>\n",
       "      <td>{'phone': '+70372550663'}</td>\n",
       "      <td>Comfort</td>\n",
       "      <td>23900.0</td>\n",
       "      <td>PG0013</td>\n",
       "      <td>2017-07-16 15:15:00+00:00</td>\n",
       "      <td>2017-07-16 17:00:00+00:00</td>\n",
       "      <td>AER</td>\n",
       "      <td>SVO</td>\n",
       "      <td>Arrived</td>\n",
       "      <td>773</td>\n",
       "      <td>2017-07-16 15:18:00+00:00</td>\n",
       "      <td>2017-07-16 17:04:00+00:00</td>\n",
       "      <td>economyAndComfort</td>\n",
       "      <td>105.0</td>\n",
       "    </tr>\n",
       "    <tr>\n",
       "      <th>1</th>\n",
       "      <td>30625</td>\n",
       "      <td>0005435212367</td>\n",
       "      <td>949E48</td>\n",
       "      <td>4819 398643</td>\n",
       "      <td>ELIZAVETA KOROLEVA</td>\n",
       "      <td>{'phone': '+70609911759'}</td>\n",
       "      <td>Economy</td>\n",
       "      <td>14000.0</td>\n",
       "      <td>PG0013</td>\n",
       "      <td>2017-07-16 15:15:00+00:00</td>\n",
       "      <td>2017-07-16 17:00:00+00:00</td>\n",
       "      <td>AER</td>\n",
       "      <td>SVO</td>\n",
       "      <td>Arrived</td>\n",
       "      <td>773</td>\n",
       "      <td>2017-07-16 15:18:00+00:00</td>\n",
       "      <td>2017-07-16 17:04:00+00:00</td>\n",
       "      <td>onlyEconomy</td>\n",
       "      <td>105.0</td>\n",
       "    </tr>\n",
       "    <tr>\n",
       "      <th>2</th>\n",
       "      <td>30625</td>\n",
       "      <td>0005435212340</td>\n",
       "      <td>DC74E3</td>\n",
       "      <td>4757 279063</td>\n",
       "      <td>LIDIYA ABRAMOVA</td>\n",
       "      <td>{'phone': '+70218535523'}</td>\n",
       "      <td>Economy</td>\n",
       "      <td>14000.0</td>\n",
       "      <td>PG0013</td>\n",
       "      <td>2017-07-16 15:15:00+00:00</td>\n",
       "      <td>2017-07-16 17:00:00+00:00</td>\n",
       "      <td>AER</td>\n",
       "      <td>SVO</td>\n",
       "      <td>Arrived</td>\n",
       "      <td>773</td>\n",
       "      <td>2017-07-16 15:18:00+00:00</td>\n",
       "      <td>2017-07-16 17:04:00+00:00</td>\n",
       "      <td>onlyEconomy</td>\n",
       "      <td>105.0</td>\n",
       "    </tr>\n",
       "    <tr>\n",
       "      <th>3</th>\n",
       "      <td>30625</td>\n",
       "      <td>0005435212379</td>\n",
       "      <td>8E9373</td>\n",
       "      <td>7200 541610</td>\n",
       "      <td>ALEKSANDR MAKSIMOV</td>\n",
       "      <td>{'phone': '+70122043275'}</td>\n",
       "      <td>Economy</td>\n",
       "      <td>14000.0</td>\n",
       "      <td>PG0013</td>\n",
       "      <td>2017-07-16 15:15:00+00:00</td>\n",
       "      <td>2017-07-16 17:00:00+00:00</td>\n",
       "      <td>AER</td>\n",
       "      <td>SVO</td>\n",
       "      <td>Arrived</td>\n",
       "      <td>773</td>\n",
       "      <td>2017-07-16 15:18:00+00:00</td>\n",
       "      <td>2017-07-16 17:04:00+00:00</td>\n",
       "      <td>onlyEconomy</td>\n",
       "      <td>105.0</td>\n",
       "    </tr>\n",
       "    <tr>\n",
       "      <th>4</th>\n",
       "      <td>30625</td>\n",
       "      <td>0005435212396</td>\n",
       "      <td>959F20</td>\n",
       "      <td>8679 727676</td>\n",
       "      <td>KRISTINA YAKOVLEVA</td>\n",
       "      <td>{'email': 'k.yakovleva-1973@postgrespro.ru', '...</td>\n",
       "      <td>Economy</td>\n",
       "      <td>14000.0</td>\n",
       "      <td>PG0013</td>\n",
       "      <td>2017-07-16 15:15:00+00:00</td>\n",
       "      <td>2017-07-16 17:00:00+00:00</td>\n",
       "      <td>AER</td>\n",
       "      <td>SVO</td>\n",
       "      <td>Arrived</td>\n",
       "      <td>773</td>\n",
       "      <td>2017-07-16 15:18:00+00:00</td>\n",
       "      <td>2017-07-16 17:04:00+00:00</td>\n",
       "      <td>onlyEconomy</td>\n",
       "      <td>105.0</td>\n",
       "    </tr>\n",
       "  </tbody>\n",
       "</table>\n",
       "</div>"
      ],
      "text/plain": [
       "   flight_id      ticket_no book_ref passenger_id      passenger_name  \\\n",
       "0      30625  0005435212374   B3E42B  7439 263605   VERONIKA TARASOVA   \n",
       "1      30625  0005435212367   949E48  4819 398643  ELIZAVETA KOROLEVA   \n",
       "2      30625  0005435212340   DC74E3  4757 279063     LIDIYA ABRAMOVA   \n",
       "3      30625  0005435212379   8E9373  7200 541610  ALEKSANDR MAKSIMOV   \n",
       "4      30625  0005435212396   959F20  8679 727676  KRISTINA YAKOVLEVA   \n",
       "\n",
       "                                        contact_data fare_conditions   amount  \\\n",
       "0                          {'phone': '+70372550663'}         Comfort  23900.0   \n",
       "1                          {'phone': '+70609911759'}         Economy  14000.0   \n",
       "2                          {'phone': '+70218535523'}         Economy  14000.0   \n",
       "3                          {'phone': '+70122043275'}         Economy  14000.0   \n",
       "4  {'email': 'k.yakovleva-1973@postgrespro.ru', '...         Economy  14000.0   \n",
       "\n",
       "  flight_no       scheduled_departure         scheduled_arrival  \\\n",
       "0    PG0013 2017-07-16 15:15:00+00:00 2017-07-16 17:00:00+00:00   \n",
       "1    PG0013 2017-07-16 15:15:00+00:00 2017-07-16 17:00:00+00:00   \n",
       "2    PG0013 2017-07-16 15:15:00+00:00 2017-07-16 17:00:00+00:00   \n",
       "3    PG0013 2017-07-16 15:15:00+00:00 2017-07-16 17:00:00+00:00   \n",
       "4    PG0013 2017-07-16 15:15:00+00:00 2017-07-16 17:00:00+00:00   \n",
       "\n",
       "  departure_airport arrival_airport   status aircraft_code  \\\n",
       "0               AER             SVO  Arrived           773   \n",
       "1               AER             SVO  Arrived           773   \n",
       "2               AER             SVO  Arrived           773   \n",
       "3               AER             SVO  Arrived           773   \n",
       "4               AER             SVO  Arrived           773   \n",
       "\n",
       "           actual_departure            actual_arrival     passenger_type  \\\n",
       "0 2017-07-16 15:18:00+00:00 2017-07-16 17:04:00+00:00  economyAndComfort   \n",
       "1 2017-07-16 15:18:00+00:00 2017-07-16 17:04:00+00:00        onlyEconomy   \n",
       "2 2017-07-16 15:18:00+00:00 2017-07-16 17:04:00+00:00        onlyEconomy   \n",
       "3 2017-07-16 15:18:00+00:00 2017-07-16 17:04:00+00:00        onlyEconomy   \n",
       "4 2017-07-16 15:18:00+00:00 2017-07-16 17:04:00+00:00        onlyEconomy   \n",
       "\n",
       "   flight_time  \n",
       "0        105.0  \n",
       "1        105.0  \n",
       "2        105.0  \n",
       "3        105.0  \n",
       "4        105.0  "
      ]
     },
     "execution_count": 176,
     "metadata": {},
     "output_type": "execute_result"
    }
   ],
   "source": [
    "# добавляем столбец со временем полета\n",
    "df['flight_time'] = (df.scheduled_arrival - df.scheduled_departure) / pd.Timedelta(minutes=1)\n",
    "df.head()"
   ]
  },
  {
   "cell_type": "code",
   "execution_count": 181,
   "id": "ac21c308",
   "metadata": {},
   "outputs": [],
   "source": [
    "# economy class\n",
    "economy = df[df['fare_conditions']=='Economy']"
   ]
  },
  {
   "cell_type": "code",
   "execution_count": 180,
   "id": "d2713a97",
   "metadata": {},
   "outputs": [
    {
     "data": {
      "text/plain": [
       "Text(0.5, 1.0, 'Зависимость длительности полета и его стоимости в эконом классе')"
      ]
     },
     "execution_count": 180,
     "metadata": {},
     "output_type": "execute_result"
    },
    {
     "data": {
      "image/png": "[encoded data removed]",
      "text/plain": [
       "<Figure size 432x288 with 1 Axes>"
      ]
     },
     "metadata": {},
     "output_type": "display_data"
    }
   ],
   "source": [
    "sns.scatterplot(x='amount', y='flight_time', data=economy)\n",
    "plt.title('Зависимость длительности полета и его стоимости в классе economy', fontsize=16)"
   ]
  },
  {
   "cell_type": "code",
   "execution_count": 182,
   "id": "d05e7acd",
   "metadata": {},
   "outputs": [],
   "source": [
    "# comfort class\n",
    "comfort = df[df['fare_conditions']=='Comfort']"
   ]
  },
  {
   "cell_type": "code",
   "execution_count": 183,
   "id": "f97b521a",
   "metadata": {},
   "outputs": [
    {
     "data": {
      "text/plain": [
       "Text(0.5, 1.0, 'Зависимость длительности полета и его стоимости в классе comfort')"
      ]
     },
     "execution_count": 183,
     "metadata": {},
     "output_type": "execute_result"
    },
    {
     "data": {
      "image/png": "[encoded data removed]",
      "text/plain": [
       "<Figure size 432x288 with 1 Axes>"
      ]
     },
     "metadata": {},
     "output_type": "display_data"
    }
   ],
   "source": [
    "sns.scatterplot(x='amount', y='flight_time', data=comfort)\n",
    "plt.title('Зависимость длительности полета и его стоимости в классе comfort', fontsize=16)"
   ]
  },
  {
   "cell_type": "code",
   "execution_count": null,
   "id": "0e35c99f",
   "metadata": {},
   "outputs": [],
   "source": []
  },
  {
   "cell_type": "code",
   "execution_count": null,
   "id": "680949c0",
   "metadata": {},
   "outputs": [],
   "source": []
  },
  {
   "cell_type": "markdown",
   "id": "575af731",
   "metadata": {},
   "source": [
    "### Статусы рейсов"
   ]
  },
  {
   "cell_type": "code",
   "execution_count": 161,
   "id": "4ddfa546",
   "metadata": {},
   "outputs": [],
   "source": [
    "by_status = df.groupby('status', as_index=False)['ticket_no'].count().sort_values('ticket_no', ascending=False)"
   ]
  },
  {
   "cell_type": "code",
   "execution_count": 163,
   "id": "8a36b41a",
   "metadata": {},
   "outputs": [
    {
     "data": {
      "text/plain": [
       "Text(0.5, 1.0, 'Количество рейсов по статусу')"
      ]
     },
     "execution_count": 163,
     "metadata": {},
     "output_type": "execute_result"
    },
    {
     "data": {
      "image/png": "[encoded data removed]",
      "text/plain": [
       "<Figure size 432x288 with 1 Axes>"
      ]
     },
     "metadata": {},
     "output_type": "display_data"
    }
   ],
   "source": [
    "sns.barplot(x='status',y='ticket_no', data=by_status)\n",
    "plt.title('Количество рейсов по статусу', fontsize = 16)"
   ]
  },
  {
   "cell_type": "code",
   "execution_count": 58,
   "id": "456fc6e3",
   "metadata": {},
   "outputs": [
    {
     "data": {
      "text/plain": [
       "array([datetime.date(2017, 8, 16), datetime.date(2017, 8, 17),\n",
       "       datetime.date(2017, 8, 18), datetime.date(2017, 8, 19),\n",
       "       datetime.date(2017, 8, 20), datetime.date(2017, 8, 21),\n",
       "       datetime.date(2017, 8, 22), datetime.date(2017, 8, 23),\n",
       "       datetime.date(2017, 8, 24), datetime.date(2017, 8, 25),\n",
       "       datetime.date(2017, 8, 26), datetime.date(2017, 8, 27),\n",
       "       datetime.date(2017, 8, 28), datetime.date(2017, 8, 29),\n",
       "       datetime.date(2017, 8, 30), datetime.date(2017, 8, 31),\n",
       "       datetime.date(2017, 9, 1), datetime.date(2017, 9, 2),\n",
       "       datetime.date(2017, 9, 3), datetime.date(2017, 9, 4),\n",
       "       datetime.date(2017, 9, 5), datetime.date(2017, 9, 6),\n",
       "       datetime.date(2017, 9, 7), datetime.date(2017, 9, 8),\n",
       "       datetime.date(2017, 9, 9), datetime.date(2017, 9, 10),\n",
       "       datetime.date(2017, 9, 11), datetime.date(2017, 9, 12),\n",
       "       datetime.date(2017, 9, 13), datetime.date(2017, 9, 14)],\n",
       "      dtype=object)"
      ]
     },
     "execution_count": 58,
     "metadata": {},
     "output_type": "execute_result"
    }
   ],
   "source": [
    "df[df.status=='Scheduled']['scheduled_departure'].dt.date.unique()"
   ]
  }
 ],
 "metadata": {
  "kernelspec": {
   "display_name": "Python 3",
   "language": "python",
   "name": "python3"
  }
 },
 "nbformat": 4,
 "nbformat_minor": 5
}
