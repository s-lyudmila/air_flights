{
 "cells": [
  {
   "cell_type": "markdown",
   "id": "243c9df0",
   "metadata": {},
   "source": [
    "## Подключение к базе данных PostgreSQL"
   ]
  },
  {
   "cell_type": "code",
   "execution_count": 5,
   "id": "74bffaa8",
   "metadata": {},
   "outputs": [],
   "source": [
    "import psycopg2\n",
    "import pandas as pd"
   ]
  },
  {
   "cell_type": "code",
   "execution_count": 6,
   "id": "acfa28d4",
   "metadata": {},
   "outputs": [],
   "source": [
    "conn = psycopg2.connect(dbname = 'demo', user='postgres', \n",
    "                        password='1234', host='localhost')"
   ]
  },
  {
   "cell_type": "code",
   "execution_count": 7,
   "id": "3604fc80",
   "metadata": {},
   "outputs": [],
   "source": [
    "cursor = conn.cursor()"
   ]
  },
  {
   "cell_type": "code",
   "execution_count": 8,
   "id": "5727b683",
   "metadata": {},
   "outputs": [],
   "source": [
    "cursor.execute('SELECT * FROM bookings LIMIT 10')"
   ]
  },
  {
   "cell_type": "code",
   "execution_count": 9,
   "id": "e49da800",
   "metadata": {},
   "outputs": [],
   "source": [
    "query = \"\"\" SELECT * FROM tickets\n",
    "                INNER JOIN ticket_flights USING(ticket_no) \n",
    "                INNER JOIN flights USING(flight_id) \"\"\""
   ]
  },
  {
   "cell_type": "code",
   "execution_count": 10,
   "id": "1e3c4833",
   "metadata": {},
   "outputs": [],
   "source": [
    "df = pd.read_sql_query(query, con = conn)"
   ]
  },
  {
   "cell_type": "code",
   "execution_count": 11,
   "id": "e272caea",
   "metadata": {},
   "outputs": [
    {
     "data": {
      "text/html": [
       "<div>\n",
       "<style scoped>\n",
       "    .dataframe tbody tr th:only-of-type {\n",
       "        vertical-align: middle;\n",
       "    }\n",
       "\n",
       "    .dataframe tbody tr th {\n",
       "        vertical-align: top;\n",
       "    }\n",
       "\n",
       "    .dataframe thead th {\n",
       "        text-align: right;\n",
       "    }\n",
       "</style>\n",
       "<table border=\"1\" class=\"dataframe\">\n",
       "  <thead>\n",
       "    <tr style=\"text-align: right;\">\n",
       "      <th></th>\n",
       "      <th>flight_id</th>\n",
       "      <th>ticket_no</th>\n",
       "      <th>book_ref</th>\n",
       "      <th>passenger_id</th>\n",
       "      <th>passenger_name</th>\n",
       "      <th>contact_data</th>\n",
       "      <th>fare_conditions</th>\n",
       "      <th>amount</th>\n",
       "      <th>flight_no</th>\n",
       "      <th>scheduled_departure</th>\n",
       "      <th>scheduled_arrival</th>\n",
       "      <th>departure_airport</th>\n",
       "      <th>arrival_airport</th>\n",
       "      <th>status</th>\n",
       "      <th>aircraft_code</th>\n",
       "      <th>actual_departure</th>\n",
       "      <th>actual_arrival</th>\n",
       "    </tr>\n",
       "  </thead>\n",
       "  <tbody>\n",
       "    <tr>\n",
       "      <th>0</th>\n",
       "      <td>30625</td>\n",
       "      <td>0005435212374</td>\n",
       "      <td>B3E42B</td>\n",
       "      <td>7439 263605</td>\n",
       "      <td>VERONIKA TARASOVA</td>\n",
       "      <td>{'phone': '+70372550663'}</td>\n",
       "      <td>Comfort</td>\n",
       "      <td>23900.0</td>\n",
       "      <td>PG0013</td>\n",
       "      <td>2017-07-16 15:15:00+00:00</td>\n",
       "      <td>2017-07-16 17:00:00+00:00</td>\n",
       "      <td>AER</td>\n",
       "      <td>SVO</td>\n",
       "      <td>Arrived</td>\n",
       "      <td>773</td>\n",
       "      <td>2017-07-16 15:18:00+00:00</td>\n",
       "      <td>2017-07-16 17:04:00+00:00</td>\n",
       "    </tr>\n",
       "    <tr>\n",
       "      <th>1</th>\n",
       "      <td>30625</td>\n",
       "      <td>0005435212367</td>\n",
       "      <td>949E48</td>\n",
       "      <td>4819 398643</td>\n",
       "      <td>ELIZAVETA KOROLEVA</td>\n",
       "      <td>{'phone': '+70609911759'}</td>\n",
       "      <td>Economy</td>\n",
       "      <td>14000.0</td>\n",
       "      <td>PG0013</td>\n",
       "      <td>2017-07-16 15:15:00+00:00</td>\n",
       "      <td>2017-07-16 17:00:00+00:00</td>\n",
       "      <td>AER</td>\n",
       "      <td>SVO</td>\n",
       "      <td>Arrived</td>\n",
       "      <td>773</td>\n",
       "      <td>2017-07-16 15:18:00+00:00</td>\n",
       "      <td>2017-07-16 17:04:00+00:00</td>\n",
       "    </tr>\n",
       "    <tr>\n",
       "      <th>2</th>\n",
       "      <td>30625</td>\n",
       "      <td>0005435212340</td>\n",
       "      <td>DC74E3</td>\n",
       "      <td>4757 279063</td>\n",
       "      <td>LIDIYA ABRAMOVA</td>\n",
       "      <td>{'phone': '+70218535523'}</td>\n",
       "      <td>Economy</td>\n",
       "      <td>14000.0</td>\n",
       "      <td>PG0013</td>\n",
       "      <td>2017-07-16 15:15:00+00:00</td>\n",
       "      <td>2017-07-16 17:00:00+00:00</td>\n",
       "      <td>AER</td>\n",
       "      <td>SVO</td>\n",
       "      <td>Arrived</td>\n",
       "      <td>773</td>\n",
       "      <td>2017-07-16 15:18:00+00:00</td>\n",
       "      <td>2017-07-16 17:04:00+00:00</td>\n",
       "    </tr>\n",
       "    <tr>\n",
       "      <th>3</th>\n",
       "      <td>30625</td>\n",
       "      <td>0005435212379</td>\n",
       "      <td>8E9373</td>\n",
       "      <td>7200 541610</td>\n",
       "      <td>ALEKSANDR MAKSIMOV</td>\n",
       "      <td>{'phone': '+70122043275'}</td>\n",
       "      <td>Economy</td>\n",
       "      <td>14000.0</td>\n",
       "      <td>PG0013</td>\n",
       "      <td>2017-07-16 15:15:00+00:00</td>\n",
       "      <td>2017-07-16 17:00:00+00:00</td>\n",
       "      <td>AER</td>\n",
       "      <td>SVO</td>\n",
       "      <td>Arrived</td>\n",
       "      <td>773</td>\n",
       "      <td>2017-07-16 15:18:00+00:00</td>\n",
       "      <td>2017-07-16 17:04:00+00:00</td>\n",
       "    </tr>\n",
       "    <tr>\n",
       "      <th>4</th>\n",
       "      <td>30625</td>\n",
       "      <td>0005435212396</td>\n",
       "      <td>959F20</td>\n",
       "      <td>8679 727676</td>\n",
       "      <td>KRISTINA YAKOVLEVA</td>\n",
       "      <td>{'email': 'k.yakovleva-1973@postgrespro.ru', '...</td>\n",
       "      <td>Economy</td>\n",
       "      <td>14000.0</td>\n",
       "      <td>PG0013</td>\n",
       "      <td>2017-07-16 15:15:00+00:00</td>\n",
       "      <td>2017-07-16 17:00:00+00:00</td>\n",
       "      <td>AER</td>\n",
       "      <td>SVO</td>\n",
       "      <td>Arrived</td>\n",
       "      <td>773</td>\n",
       "      <td>2017-07-16 15:18:00+00:00</td>\n",
       "      <td>2017-07-16 17:04:00+00:00</td>\n",
       "    </tr>\n",
       "  </tbody>\n",
       "</table>\n",
       "</div>"
      ],
      "text/plain": [
       "   flight_id      ticket_no book_ref passenger_id      passenger_name  \\\n",
       "0      30625  0005435212374   B3E42B  7439 263605   VERONIKA TARASOVA   \n",
       "1      30625  0005435212367   949E48  4819 398643  ELIZAVETA KOROLEVA   \n",
       "2      30625  0005435212340   DC74E3  4757 279063     LIDIYA ABRAMOVA   \n",
       "3      30625  0005435212379   8E9373  7200 541610  ALEKSANDR MAKSIMOV   \n",
       "4      30625  0005435212396   959F20  8679 727676  KRISTINA YAKOVLEVA   \n",
       "\n",
       "                                        contact_data fare_conditions   amount  \\\n",
       "0                          {'phone': '+70372550663'}         Comfort  23900.0   \n",
       "1                          {'phone': '+70609911759'}         Economy  14000.0   \n",
       "2                          {'phone': '+70218535523'}         Economy  14000.0   \n",
       "3                          {'phone': '+70122043275'}         Economy  14000.0   \n",
       "4  {'email': 'k.yakovleva-1973@postgrespro.ru', '...         Economy  14000.0   \n",
       "\n",
       "  flight_no       scheduled_departure         scheduled_arrival  \\\n",
       "0    PG0013 2017-07-16 15:15:00+00:00 2017-07-16 17:00:00+00:00   \n",
       "1    PG0013 2017-07-16 15:15:00+00:00 2017-07-16 17:00:00+00:00   \n",
       "2    PG0013 2017-07-16 15:15:00+00:00 2017-07-16 17:00:00+00:00   \n",
       "3    PG0013 2017-07-16 15:15:00+00:00 2017-07-16 17:00:00+00:00   \n",
       "4    PG0013 2017-07-16 15:15:00+00:00 2017-07-16 17:00:00+00:00   \n",
       "\n",
       "  departure_airport arrival_airport   status aircraft_code  \\\n",
       "0               AER             SVO  Arrived           773   \n",
       "1               AER             SVO  Arrived           773   \n",
       "2               AER             SVO  Arrived           773   \n",
       "3               AER             SVO  Arrived           773   \n",
       "4               AER             SVO  Arrived           773   \n",
       "\n",
       "           actual_departure            actual_arrival  \n",
       "0 2017-07-16 15:18:00+00:00 2017-07-16 17:04:00+00:00  \n",
       "1 2017-07-16 15:18:00+00:00 2017-07-16 17:04:00+00:00  \n",
       "2 2017-07-16 15:18:00+00:00 2017-07-16 17:04:00+00:00  \n",
       "3 2017-07-16 15:18:00+00:00 2017-07-16 17:04:00+00:00  \n",
       "4 2017-07-16 15:18:00+00:00 2017-07-16 17:04:00+00:00  "
      ]
     },
     "execution_count": 11,
     "metadata": {},
     "output_type": "execute_result"
    }
   ],
   "source": [
    "df.head()"
   ]
  },
  {
   "cell_type": "code",
   "execution_count": 12,
   "id": "5719ff31",
   "metadata": {},
   "outputs": [
    {
     "data": {
      "text/plain": [
       "(1045726, 17)"
      ]
     },
     "execution_count": 12,
     "metadata": {},
     "output_type": "execute_result"
    }
   ],
   "source": [
    "df.shape"
   ]
  },
  {
   "cell_type": "code",
   "execution_count": 15,
   "id": "d1ff80f3",
   "metadata": {},
   "outputs": [],
   "source": [
    "conn.close()"
   ]
  },
  {
   "cell_type": "code",
   "execution_count": null,
   "id": "4bd930b8",
   "metadata": {},
   "outputs": [],
   "source": []
  },
  {
   "cell_type": "code",
   "execution_count": null,
   "id": "4714fa2b",
   "metadata": {},
   "outputs": [],
   "source": []
  },
  {
   "cell_type": "code",
   "execution_count": null,
   "id": "4ddfa546",
   "metadata": {},
   "outputs": [],
   "source": []
  },
  {
   "cell_type": "code",
   "execution_count": null,
   "id": "8a36b41a",
   "metadata": {},
   "outputs": [],
   "source": []
  },
  {
   "cell_type": "code",
   "execution_count": null,
   "id": "456fc6e3",
   "metadata": {},
   "outputs": [],
   "source": []
  },
  {
   "cell_type": "code",
   "execution_count": null,
   "id": "1c38bdeb",
   "metadata": {},
   "outputs": [],
   "source": []
  }
 ],
 "metadata": {
  "kernelspec": {
   "display_name": "Python 3",
   "language": "python",
   "name": "python3"
  },
  "language_info": {
   "codemirror_mode": {
    "name": "ipython",
    "version": 3
   },
   "file_extension": ".py",
   "mimetype": "text/x-python",
   "name": "python",
   "nbconvert_exporter": "python",
   "pygments_lexer": "ipython3",
   "version": "3.8.8"
  }
 },
 "nbformat": 4,
 "nbformat_minor": 5
}
